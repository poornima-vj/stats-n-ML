{
 "cells": [
  {
   "cell_type": "code",
   "execution_count": null,
   "metadata": {},
   "outputs": [],
   "source": [
    "# WHEN THE POPULATION IS MORE THAN ONE THEN ITS CALLED tTEST\n",
    "# IF POPULATION IS MORE THAN TWO -ITSS CALLED ANNOVA- ANALYSIS OF VARIANCE\n"
   ]
  },
  {
   "cell_type": "code",
   "execution_count": 37,
   "metadata": {},
   "outputs": [],
   "source": [
    "import pandas as pd\n",
    "from scipy.stats import ttest_ind, ttest_ind_from_stats\n",
    "import numpy as np\n",
    "np.random.seed(1234567)\n"
   ]
  },
  {
   "cell_type": "code",
   "execution_count": 9,
   "metadata": {},
   "outputs": [],
   "source": [
    "#data\n",
    "df1 = pd.read_csv(\"https://raw.githubusercontent.com/mahat/TtestExample/master/dataset/MPG_DataSet.csv\", sep = ';')"
   ]
  },
  {
   "cell_type": "code",
   "execution_count": 10,
   "metadata": {},
   "outputs": [
    {
     "data": {
      "text/html": [
       "<div>\n",
       "<style scoped>\n",
       "    .dataframe tbody tr th:only-of-type {\n",
       "        vertical-align: middle;\n",
       "    }\n",
       "\n",
       "    .dataframe tbody tr th {\n",
       "        vertical-align: top;\n",
       "    }\n",
       "\n",
       "    .dataframe thead th {\n",
       "        text-align: right;\n",
       "    }\n",
       "</style>\n",
       "<table border=\"1\" class=\"dataframe\">\n",
       "  <thead>\n",
       "    <tr style=\"text-align: right;\">\n",
       "      <th></th>\n",
       "      <th>USA</th>\n",
       "      <th>Japan</th>\n",
       "    </tr>\n",
       "  </thead>\n",
       "  <tbody>\n",
       "    <tr>\n",
       "      <th>0</th>\n",
       "      <td>18</td>\n",
       "      <td>24</td>\n",
       "    </tr>\n",
       "    <tr>\n",
       "      <th>1</th>\n",
       "      <td>15</td>\n",
       "      <td>27</td>\n",
       "    </tr>\n",
       "    <tr>\n",
       "      <th>2</th>\n",
       "      <td>18</td>\n",
       "      <td>27</td>\n",
       "    </tr>\n",
       "    <tr>\n",
       "      <th>3</th>\n",
       "      <td>16</td>\n",
       "      <td>25</td>\n",
       "    </tr>\n",
       "    <tr>\n",
       "      <th>4</th>\n",
       "      <td>17</td>\n",
       "      <td>31</td>\n",
       "    </tr>\n",
       "  </tbody>\n",
       "</table>\n",
       "</div>"
      ],
      "text/plain": [
       "   USA  Japan\n",
       "0   18     24\n",
       "1   15     27\n",
       "2   18     27\n",
       "3   16     25\n",
       "4   17     31"
      ]
     },
     "execution_count": 10,
     "metadata": {},
     "output_type": "execute_result"
    }
   ],
   "source": [
    "df1.head()"
   ]
  },
  {
   "cell_type": "code",
   "execution_count": 11,
   "metadata": {},
   "outputs": [
    {
     "data": {
      "text/plain": [
       "USA      0\n",
       "Japan    0\n",
       "dtype: int64"
      ]
     },
     "execution_count": 11,
     "metadata": {},
     "output_type": "execute_result"
    }
   ],
   "source": [
    "df1.isna().sum()"
   ]
  },
  {
   "cell_type": "code",
   "execution_count": 13,
   "metadata": {},
   "outputs": [
    {
     "data": {
      "text/plain": [
       "(249, 2)"
      ]
     },
     "execution_count": 13,
     "metadata": {},
     "output_type": "execute_result"
    }
   ],
   "source": [
    "df1.shape"
   ]
  },
  {
   "cell_type": "code",
   "execution_count": 14,
   "metadata": {},
   "outputs": [
    {
     "data": {
      "text/html": [
       "<div>\n",
       "<style scoped>\n",
       "    .dataframe tbody tr th:only-of-type {\n",
       "        vertical-align: middle;\n",
       "    }\n",
       "\n",
       "    .dataframe tbody tr th {\n",
       "        vertical-align: top;\n",
       "    }\n",
       "\n",
       "    .dataframe thead th {\n",
       "        text-align: right;\n",
       "    }\n",
       "</style>\n",
       "<table border=\"1\" class=\"dataframe\">\n",
       "  <thead>\n",
       "    <tr style=\"text-align: right;\">\n",
       "      <th></th>\n",
       "      <th>USA</th>\n",
       "      <th>Japan</th>\n",
       "    </tr>\n",
       "  </thead>\n",
       "  <tbody>\n",
       "    <tr>\n",
       "      <th>0</th>\n",
       "      <td>18</td>\n",
       "      <td>24</td>\n",
       "    </tr>\n",
       "    <tr>\n",
       "      <th>1</th>\n",
       "      <td>15</td>\n",
       "      <td>27</td>\n",
       "    </tr>\n",
       "    <tr>\n",
       "      <th>2</th>\n",
       "      <td>18</td>\n",
       "      <td>27</td>\n",
       "    </tr>\n",
       "    <tr>\n",
       "      <th>3</th>\n",
       "      <td>16</td>\n",
       "      <td>25</td>\n",
       "    </tr>\n",
       "    <tr>\n",
       "      <th>4</th>\n",
       "      <td>17</td>\n",
       "      <td>31</td>\n",
       "    </tr>\n",
       "    <tr>\n",
       "      <th>...</th>\n",
       "      <td>...</td>\n",
       "      <td>...</td>\n",
       "    </tr>\n",
       "    <tr>\n",
       "      <th>244</th>\n",
       "      <td>27</td>\n",
       "      <td>-999</td>\n",
       "    </tr>\n",
       "    <tr>\n",
       "      <th>245</th>\n",
       "      <td>27</td>\n",
       "      <td>-999</td>\n",
       "    </tr>\n",
       "    <tr>\n",
       "      <th>246</th>\n",
       "      <td>32</td>\n",
       "      <td>-999</td>\n",
       "    </tr>\n",
       "    <tr>\n",
       "      <th>247</th>\n",
       "      <td>28</td>\n",
       "      <td>-999</td>\n",
       "    </tr>\n",
       "    <tr>\n",
       "      <th>248</th>\n",
       "      <td>31</td>\n",
       "      <td>-999</td>\n",
       "    </tr>\n",
       "  </tbody>\n",
       "</table>\n",
       "<p>249 rows × 2 columns</p>\n",
       "</div>"
      ],
      "text/plain": [
       "     USA  Japan\n",
       "0     18     24\n",
       "1     15     27\n",
       "2     18     27\n",
       "3     16     25\n",
       "4     17     31\n",
       "..   ...    ...\n",
       "244   27   -999\n",
       "245   27   -999\n",
       "246   32   -999\n",
       "247   28   -999\n",
       "248   31   -999\n",
       "\n",
       "[249 rows x 2 columns]"
      ]
     },
     "execution_count": 14,
     "metadata": {},
     "output_type": "execute_result"
    }
   ],
   "source": [
    "df1"
   ]
  },
  {
   "cell_type": "code",
   "execution_count": 17,
   "metadata": {},
   "outputs": [
    {
     "name": "stdout",
     "output_type": "stream",
     "text": [
      "[18 15 18 16 17 15 14 14 14 15 15 14 15 14 22 18 21 21 10 10 11  9 28 25\n",
      " 19 16 17 19 18 14 14 14 14 12 13 13 18 22 19 18 23 26 25 20 21 13 14 15\n",
      " 14 17 11 13 12 13 15 13 13 14 22 28 13 14 13 14 15 12 13 13 14 13 12 13\n",
      " 18 16 18 18 23 11 12 13 12 18 21 19 21 15 16 15 11 20 21 19 15 26 25 16\n",
      " 16 18 16 13 14 14 14 28 19 18 15 15 16 15 16 14 17 16 15 18 21 20 13 23\n",
      " 20 23 18 19 25 26 18 16 16 15 22 22 24 23 29 25 20 18 19 18 27 13 17 13\n",
      " 13 13 30 26 18 17 16 15 18 21 19 19 16 16 16 16 25 26 31 34 36 20 19 20\n",
      " 19 21 20 25 21 19 21 21 19 18 19 18 18 18 30 31 23 24 22 20 22 20 21 17\n",
      " 18 17 18 17 16 19 19 36 27 23 24 34 35 28 29 27 34 32 28 26 24 19 28 24\n",
      " 27 27 26 24 30 39 35 34 30 22 27 20 18 28 27 34 31 29 27 24 23 38 36 25\n",
      " 38 26 22 36 27 27 32 28 31]\n"
     ]
    }
   ],
   "source": [
    "USAMpg = df1['USA'].values\n",
    "print(USAMpg)"
   ]
  },
  {
   "cell_type": "code",
   "execution_count": 19,
   "metadata": {},
   "outputs": [
    {
     "data": {
      "text/plain": [
       "0       24\n",
       "1       27\n",
       "2       27\n",
       "3       25\n",
       "4       31\n",
       "      ... \n",
       "244   -999\n",
       "245   -999\n",
       "246   -999\n",
       "247   -999\n",
       "248   -999\n",
       "Name: Japan, Length: 249, dtype: int64"
      ]
     },
     "execution_count": 19,
     "metadata": {},
     "output_type": "execute_result"
    }
   ],
   "source": [
    "JapanMpg = df1['Japan']\n",
    "JapanMpg"
   ]
  },
  {
   "cell_type": "code",
   "execution_count": 22,
   "metadata": {},
   "outputs": [
    {
     "data": {
      "text/plain": [
       "array([24, 27, 27, 25, 31, 35, 24, 19, 28, 23, 27, 20, 22, 18, 20, 31, 32,\n",
       "       31, 32, 24, 26, 29, 24, 24, 33, 33, 32, 28, 19, 32, 34, 26, 30, 22,\n",
       "       22, 33, 39, 36, 28, 27, 21, 24, 30, 34, 32, 38, 37, 30, 31, 37, 32,\n",
       "       47, 41, 45, 34, 33, 24, 32, 39, 35, 32, 37, 38, 34, 34, 32, 33, 32,\n",
       "       25, 24, 37, 31, 36, 36, 34, 38, 32, 38, 32], dtype=int64)"
      ]
     },
     "execution_count": 22,
     "metadata": {},
     "output_type": "execute_result"
    }
   ],
   "source": [
    "JapanMpg = df1['Japan']\n",
    "JapanMpg_new = JapanMpg[JapanMpg!= -999].values   #to remove vlaues -999 from JapanMPG i.e from Japan column\n",
    "JapanMpg_new"
   ]
  },
  {
   "cell_type": "code",
   "execution_count": 23,
   "metadata": {},
   "outputs": [
    {
     "name": "stdout",
     "output_type": "stream",
     "text": [
      "USA data length 249\n",
      "Japan data length 249\n",
      "Japan new data length 79\n"
     ]
    }
   ],
   "source": [
    "print('USA data length %d' % len(USAMpg))\n",
    "print('Japan data length %d' % len(JapanMpg))\n",
    "print('Japan new data length %d' % len(JapanMpg_new))"
   ]
  },
  {
   "cell_type": "code",
   "execution_count": 21,
   "metadata": {},
   "outputs": [
    {
     "data": {
      "text/plain": [
       "array([  24,   27,   27,   25,   31,   35,   24,   19,   28,   23,   27,\n",
       "         20,   22,   18,   20,   31,   32,   31,   32,   24,   26,   29,\n",
       "         24,   24,   33,   33,   32,   28,   19,   32,   34,   26,   30,\n",
       "         22,   22,   33,   39,   36,   28,   27,   21,   24,   30,   34,\n",
       "         32,   38,   37,   30,   31,   37,   32,   47,   41,   45,   34,\n",
       "         33,   24,   32,   39,   35,   32,   37,   38,   34,   34,   32,\n",
       "         33,   32,   25,   24,   37,   31,   36,   36,   34,   38,   32,\n",
       "         38,   32, -999, -999, -999, -999, -999, -999, -999, -999, -999,\n",
       "       -999, -999, -999, -999, -999, -999, -999, -999, -999, -999, -999,\n",
       "       -999, -999, -999, -999, -999, -999, -999, -999, -999, -999, -999,\n",
       "       -999, -999, -999, -999, -999, -999, -999, -999, -999, -999, -999,\n",
       "       -999, -999, -999, -999, -999, -999, -999, -999, -999, -999, -999,\n",
       "       -999, -999, -999, -999, -999, -999, -999, -999, -999, -999, -999,\n",
       "       -999, -999, -999, -999, -999, -999, -999, -999, -999, -999, -999,\n",
       "       -999, -999, -999, -999, -999, -999, -999, -999, -999, -999, -999,\n",
       "       -999, -999, -999, -999, -999, -999, -999, -999, -999, -999, -999,\n",
       "       -999, -999, -999, -999, -999, -999, -999, -999, -999, -999, -999,\n",
       "       -999, -999, -999, -999, -999, -999, -999, -999, -999, -999, -999,\n",
       "       -999, -999, -999, -999, -999, -999, -999, -999, -999, -999, -999,\n",
       "       -999, -999, -999, -999, -999, -999, -999, -999, -999, -999, -999,\n",
       "       -999, -999, -999, -999, -999, -999, -999, -999, -999, -999, -999,\n",
       "       -999, -999, -999, -999, -999, -999, -999, -999, -999, -999, -999,\n",
       "       -999, -999, -999, -999, -999, -999, -999], dtype=int64)"
      ]
     },
     "execution_count": 21,
     "metadata": {},
     "output_type": "execute_result"
    }
   ],
   "source": [
    "JapanMpg.values"
   ]
  },
  {
   "cell_type": "code",
   "execution_count": 26,
   "metadata": {},
   "outputs": [
    {
     "name": "stdout",
     "output_type": "stream",
     "text": [
      "USA data mean 20.144578\n",
      "Japan data mean -672.377510\n",
      "Japan new data mean 30.481013\n"
     ]
    }
   ],
   "source": [
    "print('USA data mean %f' %  USAMpg.mean())\n",
    "print('Japan data mean %f' % JapanMpg.mean())\n",
    "print('Japan new data mean %f' % JapanMpg_new.mean())"
   ]
  },
  {
   "cell_type": "code",
   "execution_count": 27,
   "metadata": {},
   "outputs": [
    {
     "data": {
      "text/plain": [
       "40.98311317559395"
      ]
     },
     "execution_count": 27,
     "metadata": {},
     "output_type": "execute_result"
    }
   ],
   "source": [
    "np.var(USAMpg)"
   ]
  },
  {
   "cell_type": "code",
   "execution_count": 28,
   "metadata": {},
   "outputs": [
    {
     "data": {
      "text/plain": [
       "36.83191796186508"
      ]
     },
     "execution_count": 28,
     "metadata": {},
     "output_type": "execute_result"
    }
   ],
   "source": [
    "np.var(JapanMpg_new)"
   ]
  },
  {
   "cell_type": "code",
   "execution_count": 29,
   "metadata": {},
   "outputs": [
    {
     "data": {
      "text/plain": [
       "6.401805462179708"
      ]
     },
     "execution_count": 29,
     "metadata": {},
     "output_type": "execute_result"
    }
   ],
   "source": [
    "np.std(USAMpg)"
   ]
  },
  {
   "cell_type": "code",
   "execution_count": 30,
   "metadata": {},
   "outputs": [
    {
     "data": {
      "text/plain": [
       "6.068930545150857"
      ]
     },
     "execution_count": 30,
     "metadata": {},
     "output_type": "execute_result"
    }
   ],
   "source": [
    "np.std(JapanMpg_new)"
   ]
  },
  {
   "cell_type": "code",
   "execution_count": 39,
   "metadata": {},
   "outputs": [
    {
     "name": "stdout",
     "output_type": "stream",
     "text": [
      "null hypothesis : MPG means of USA n Japan are equal\n",
      "t_value =-12.9463 P- value = 1.57085e-25 significance = 0.05\n",
      "Reject null hypothesis -> Population mean MPG of Japan & USA are not equal\n"
     ]
    }
   ],
   "source": [
    "# H1_0 Null Hypothesis = two mean are equal\n",
    "#significance level = 0.05\n",
    "\n",
    "significance = 0.05\n",
    "t, p = ttest_ind(USAMpg, JapanMpg_new, equal_var=False)\n",
    "print(\"null hypothesis : MPG means of USA n Japan are equal\")\n",
    "print(\"t_value =%g P- value = %g significance = %g\" % (t, p, significance))\n",
    "\n",
    "#H1 = Two means are not \n",
    "\n",
    "if p<significance:\n",
    "    print(\"Reject null hypothesis -> Population mean MPG of Japan & USA are not equal\")\n",
    "else:\n",
    "    print(\"Fails to reject Null hypothesis\")"
   ]
  },
  {
   "cell_type": "code",
   "execution_count": 33,
   "metadata": {},
   "outputs": [
    {
     "data": {
      "text/plain": [
       "array([24, 27, 27, 25, 31, 35, 24, 19, 28, 23, 27, 20, 22, 18, 20, 31, 32,\n",
       "       31, 32, 24, 26, 29, 24, 24, 33, 33, 32, 28, 19, 32, 34, 26, 30, 22,\n",
       "       22, 33, 39, 36, 28, 27, 21, 24, 30, 34, 32, 38, 37, 30, 31, 37, 32,\n",
       "       47, 41, 45, 34, 33, 24, 32, 39, 35, 32, 37, 38, 34, 34, 32, 33, 32,\n",
       "       25, 24, 37, 31, 36, 36, 34, 38, 32, 38, 32], dtype=int64)"
      ]
     },
     "execution_count": 33,
     "metadata": {},
     "output_type": "execute_result"
    }
   ],
   "source": [
    "JapanMpg_new"
   ]
  },
  {
   "cell_type": "code",
   "execution_count": 34,
   "metadata": {},
   "outputs": [
    {
     "data": {
      "text/plain": [
       "79"
      ]
     },
     "execution_count": 34,
     "metadata": {},
     "output_type": "execute_result"
    }
   ],
   "source": [
    "len(JapanMpg_new)"
   ]
  },
  {
   "cell_type": "code",
   "execution_count": null,
   "metadata": {},
   "outputs": [],
   "source": []
  },
  {
   "cell_type": "code",
   "execution_count": null,
   "metadata": {},
   "outputs": [],
   "source": []
  }
 ],
 "metadata": {
  "kernelspec": {
   "display_name": "Python 3",
   "language": "python",
   "name": "python3"
  },
  "language_info": {
   "codemirror_mode": {
    "name": "ipython",
    "version": 3
   },
   "file_extension": ".py",
   "mimetype": "text/x-python",
   "name": "python",
   "nbconvert_exporter": "python",
   "pygments_lexer": "ipython3",
   "version": "3.7.7"
  }
 },
 "nbformat": 4,
 "nbformat_minor": 4
}
